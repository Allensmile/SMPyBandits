{
 "cells": [
  {
   "cell_type": "markdown",
   "metadata": {
    "toc": "true"
   },
   "source": [
    "# Table of Contents\n",
    " <p><div class=\"lev1 toc-item\"><a href=\"#Trying-to-use-Unsupervised-Learning-algorithms-for-a-Gaussian-bandit-problem\" data-toc-modified-id=\"Trying-to-use-Unsupervised-Learning-algorithms-for-a-Gaussian-bandit-problem-1\"><span class=\"toc-item-num\">1&nbsp;&nbsp;</span>Trying to use Unsupervised Learning algorithms for a Gaussian bandit problem</a></div><div class=\"lev2 toc-item\"><a href=\"#Creating-the-Gaussian-bandit-problem\" data-toc-modified-id=\"Creating-the-Gaussian-bandit-problem-11\"><span class=\"toc-item-num\">1.1&nbsp;&nbsp;</span>Creating the Gaussian bandit problem</a></div><div class=\"lev2 toc-item\"><a href=\"#Getting-data-from-a-first-phase-of-uniform-exploration\" data-toc-modified-id=\"Getting-data-from-a-first-phase-of-uniform-exploration-12\"><span class=\"toc-item-num\">1.2&nbsp;&nbsp;</span>Getting data from a first phase of uniform exploration</a></div><div class=\"lev2 toc-item\"><a href=\"#Fitting-an-Unsupervised-Learning-algorithm\" data-toc-modified-id=\"Fitting-an-Unsupervised-Learning-algorithm-13\"><span class=\"toc-item-num\">1.3&nbsp;&nbsp;</span>Fitting an Unsupervised Learning algorithm</a></div><div class=\"lev2 toc-item\"><a href=\"#Using-the-prediction-to-decide-the-next-arm-to-sample\" data-toc-modified-id=\"Using-the-prediction-to-decide-the-next-arm-to-sample-14\"><span class=\"toc-item-num\">1.4&nbsp;&nbsp;</span>Using the prediction to decide the next arm to sample</a></div><div class=\"lev2 toc-item\"><a href=\"#Implementing-a-Policy-from-that-idea\" data-toc-modified-id=\"Implementing-a-Policy-from-that-idea-15\"><span class=\"toc-item-num\">1.5&nbsp;&nbsp;</span>Implementing a Policy from that idea</a></div><div class=\"lev3 toc-item\"><a href=\"#Basic-algorithm\" data-toc-modified-id=\"Basic-algorithm-151\"><span class=\"toc-item-num\">1.5.1&nbsp;&nbsp;</span>Basic algorithm</a></div><div class=\"lev3 toc-item\"><a href=\"#A-variant\" data-toc-modified-id=\"A-variant-152\"><span class=\"toc-item-num\">1.5.2&nbsp;&nbsp;</span>A variant</a></div><div class=\"lev3 toc-item\"><a href=\"#Implementation\" data-toc-modified-id=\"Implementation-153\"><span class=\"toc-item-num\">1.5.3&nbsp;&nbsp;</span>Implementation</a></div><div class=\"lev2 toc-item\"><a href=\"#Comparing-its-performance-on-this-Gaussian-problem\" data-toc-modified-id=\"Comparing-its-performance-on-this-Gaussian-problem-16\"><span class=\"toc-item-num\">1.6&nbsp;&nbsp;</span>Comparing its performance on this Gaussian problem</a></div><div class=\"lev3 toc-item\"><a href=\"#Configuring-an-experiment\" data-toc-modified-id=\"Configuring-an-experiment-161\"><span class=\"toc-item-num\">1.6.1&nbsp;&nbsp;</span>Configuring an experiment</a></div><div class=\"lev3 toc-item\"><a href=\"#Running-an-experiment\" data-toc-modified-id=\"Running-an-experiment-162\"><span class=\"toc-item-num\">1.6.2&nbsp;&nbsp;</span>Running an experiment</a></div><div class=\"lev3 toc-item\"><a href=\"#Visualizing-the-results\" data-toc-modified-id=\"Visualizing-the-results-163\"><span class=\"toc-item-num\">1.6.3&nbsp;&nbsp;</span>Visualizing the results</a></div><div class=\"lev2 toc-item\"><a href=\"#Conclusion\" data-toc-modified-id=\"Conclusion-17\"><span class=\"toc-item-num\">1.7&nbsp;&nbsp;</span>Conclusion</a></div>"
   ]
  },
  {
   "cell_type": "markdown",
   "metadata": {},
   "source": [
    "----\n",
    "# Trying to use Unsupervised Learning algorithms for a Gaussian bandit problem\n",
    "\n",
    "This small [Jupyter notebook](https://www.jupyter.org/) presents an experiment, in the context of [Multi-Armed Bandit problems](https://en.wikipedia.org/wiki/Multi-armed_bandit) (MAB).\n",
    "\n",
    "[I am](http://perso.crans.org/besson/) trying to answer a simple question:\n",
    "\n",
    "> \"Can we use generic unsupervised learning algorithm, like [Kernel Density estimation](http://scikit-learn.org/stable/modules/density.html) or [Ridge Regression](http://scikit-learn.org/stable/modules/linear_model.html), instead of MAB algorithms like [UCB](http://sbubeck.com/SurveyBCB12.pdf) or [Thompson Sampling](https://en.wikipedia.org/wiki/Thompson_sampling) ?\n",
    "\n",
    "I will use my [AlgoBandits](http://banditslilian.gforge.inria.fr/) library, for which a complete documentation is available, [here at http://banditslilian.gforge.inria.fr/](http://banditslilian.gforge.inria.fr/), and the [scikit-learn package](http://scikit-learn.org/)."
   ]
  },
  {
   "cell_type": "markdown",
   "metadata": {},
   "source": [
    "## Creating the Gaussian bandit problem\n",
    "First, be sure to be in the main folder, and import the [`MAB` class](http://banditslilian.gforge.inria.fr/docs/Environment.MAB.html#Environment.MAB.MAB) from [the `Environment` package](http://banditslilian.gforge.inria.fr/docs/Environment.html#module-Environment):"
   ]
  },
  {
   "cell_type": "code",
   "execution_count": 1,
   "metadata": {
    "collapsed": true
   },
   "outputs": [],
   "source": [
    "import numpy as np"
   ]
  },
  {
   "cell_type": "code",
   "execution_count": 2,
   "metadata": {
    "collapsed": true
   },
   "outputs": [],
   "source": [
    "from sys import path\n",
    "path.insert(0, '..')"
   ]
  },
  {
   "cell_type": "code",
   "execution_count": 3,
   "metadata": {},
   "outputs": [
    {
     "name": "stdout",
     "output_type": "stream",
     "text": [
      " - Setting dpi of all figures to 110 ...\n",
      " - Setting 'figsize' of all figures to (19.8, 10.8) ...\n",
      "Info: Using the Jupyter notebook version of the tqdm() decorator, tqdm_notebook() ...\n"
     ]
    }
   ],
   "source": [
    "from Environment import MAB"
   ]
  },
  {
   "cell_type": "markdown",
   "metadata": {},
   "source": [
    "And also, import the [`Gaussian` class](http://banditslilian.gforge.inria.fr/docs/Arms.Gaussian.html#Arms.Gaussian.Gaussian) to create Gaussian-distributed arms."
   ]
  },
  {
   "cell_type": "code",
   "execution_count": 4,
   "metadata": {
    "scrolled": true
   },
   "outputs": [
    {
     "name": "stdout",
     "output_type": "stream",
     "text": [
      "Info: numba.jit seems to be available.\n"
     ]
    }
   ],
   "source": [
    "from Arms import Gaussian"
   ]
  },
  {
   "cell_type": "code",
   "execution_count": 5,
   "metadata": {
    "code_folding": [
     0
    ],
    "collapsed": true
   },
   "outputs": [],
   "source": [
    "# Just improving the ?? in Jupyter. Thanks to https://nbviewer.jupyter.org/gist/minrk/7715212\n",
    "from __future__ import print_function\n",
    "from IPython.core import page\n",
    "def myprint(s):\n",
    "    try:\n",
    "        print(s['text/plain'])\n",
    "    except (KeyError, TypeError):\n",
    "        print(s)\n",
    "page.page = myprint"
   ]
  },
  {
   "cell_type": "code",
   "execution_count": 6,
   "metadata": {},
   "outputs": [
    {
     "name": "stdout",
     "output_type": "stream",
     "text": [
      "\u001b[0;31mInit signature:\u001b[0m \u001b[0mGaussian\u001b[0m\u001b[0;34m(\u001b[0m\u001b[0mmu\u001b[0m\u001b[0;34m,\u001b[0m \u001b[0msigma\u001b[0m\u001b[0;34m=\u001b[0m\u001b[0;36m0.05\u001b[0m\u001b[0;34m,\u001b[0m \u001b[0mmini\u001b[0m\u001b[0;34m=\u001b[0m\u001b[0;36m0\u001b[0m\u001b[0;34m,\u001b[0m \u001b[0mmaxi\u001b[0m\u001b[0;34m=\u001b[0m\u001b[0;36m1\u001b[0m\u001b[0;34m)\u001b[0m\u001b[0;34m\u001b[0m\u001b[0m\n",
      "\u001b[0;31mDocstring:\u001b[0m     \n",
      "Gaussian distributed arm, possibly truncated.\n",
      "\n",
      "- Default is to truncate into [0, 1] (so Gaussian.draw() is in [0, 1]).\n",
      "\u001b[0;31mInit docstring:\u001b[0m New arm.\n",
      "\u001b[0;31mFile:\u001b[0m           ~/ownCloud/cloud.openmailbox.org/Thèse_2016-17/src/AlgoBandits.git/Arms/Gaussian.py\n",
      "\u001b[0;31mType:\u001b[0m           type\n",
      "\n"
     ]
    }
   ],
   "source": [
    "Gaussian?"
   ]
  },
  {
   "cell_type": "markdown",
   "metadata": {},
   "source": [
    "Let create a simple bandit problem, with 3 arms, and visualize an histogram showing the repartition of rewards."
   ]
  },
  {
   "cell_type": "code",
   "execution_count": 7,
   "metadata": {},
   "outputs": [
    {
     "name": "stdout",
     "output_type": "stream",
     "text": [
      "Creating a new MAB problem ...\n",
      "  Taking arms of this MAB problem from a list of arms 'configuration' = <generator object <genexpr> at 0x7f986ff14518> ...\n",
      " - with 'arms' = [G(0.45, 0.2), G(0.5, 0.2), G(0.55, 0.2)]\n",
      " - with 'means' = [ 0.45  0.5   0.55]\n",
      " - with 'nbArms' = 3\n",
      " - with 'maxArm' = 0.55\n",
      " - with 'minArm' = 0.45\n",
      "\n",
      "This MAB problem has: \n",
      " - a [Lai & Robbins] complexity constant C(mu) = 12 ... \n",
      " - a Optimal Arm Identification factor H_OI(mu) = 61.67% ...\n",
      " - with 'arms' represented as: $[G(0.45, 0.2), G(0.5, 0.2), G(0.55, 0.2)^*]$\n"
     ]
    }
   ],
   "source": [
    "means = [0.45, 0.5, 0.55]\n",
    "M = MAB(Gaussian(mu, sigma=0.2) for mu in means)"
   ]
  },
  {
   "cell_type": "code",
   "execution_count": 8,
   "metadata": {},
   "outputs": [
    {
     "data": {
      "image/png": "[encoded data removed]",
      "text/plain": [
       "<matplotlib.figure.Figure at 0x7f98a8070eb8>"
      ]
     },
     "metadata": {},
     "output_type": "display_data"
    }
   ],
   "source": [
    "M.plotHistogram(horizon=100000)"
   ]
  },
  {
   "cell_type": "markdown",
   "metadata": {},
   "source": [
    "> As we can see, the rewards of the different arms are close. It won't be easy to distinguish them."
   ]
  },
  {
   "cell_type": "markdown",
   "metadata": {},
   "source": [
    "Then we can generate some draws, from all arms, from time $t=1$ to $t=T_0$, for let say $T_0 = 1000$ :"
   ]
  },
  {
   "cell_type": "code",
   "execution_count": 9,
   "metadata": {
    "collapsed": true
   },
   "outputs": [],
   "source": [
    "T_0 = 1000\n",
    "shape = (T_0,)\n",
    "draws = np.array([ b.draw_nparray(shape) for b in M.arms ])"
   ]
  },
  {
   "cell_type": "code",
   "execution_count": 10,
   "metadata": {},
   "outputs": [
    {
     "data": {
      "text/plain": [
       "array([[ 0.53352038,  0.51953445,  0.4022703 , ...,  0.59567498,\n",
       "         0.19823004,  0.49445835],\n",
       "       [ 0.35318382,  0.6388169 ,  0.74829958, ...,  0.90540226,\n",
       "         0.62471989,  0.99276006],\n",
       "       [ 0.55535405,  0.74477266,  0.74862057, ...,  0.48474884,\n",
       "         0.55455887,  0.57973912]])"
      ]
     },
     "execution_count": 10,
     "metadata": {},
     "output_type": "execute_result"
    }
   ],
   "source": [
    "draws"
   ]
  },
  {
   "cell_type": "markdown",
   "metadata": {},
   "source": [
    "The *empirical means* of each arm can be estimated, quite easily, and could be used to make all the decisions from $t \\geq T_0 + 1$."
   ]
  },
  {
   "cell_type": "code",
   "execution_count": 11,
   "metadata": {
    "collapsed": true
   },
   "outputs": [],
   "source": [
    "empirical_means = np.mean(draws, axis=1)"
   ]
  },
  {
   "cell_type": "code",
   "execution_count": 12,
   "metadata": {},
   "outputs": [
    {
     "data": {
      "text/plain": [
       "array([ 0.44994536,  0.49145543,  0.54327896])"
      ]
     },
     "execution_count": 12,
     "metadata": {},
     "output_type": "execute_result"
    }
   ],
   "source": [
    "empirical_means"
   ]
  },
  {
   "cell_type": "markdown",
   "metadata": {},
   "source": [
    "Clearly, the last arm is the best. And the empirical means $\\hat{\\mu}_k(t)$ for $k=1,\\dots,K$, are really close to the true one, as $T_0 = 1000$ is quite large."
   ]
  },
  {
   "cell_type": "code",
   "execution_count": 13,
   "metadata": {
    "collapsed": true
   },
   "outputs": [],
   "source": [
    "def relative_error(x, y):\n",
    "    return np.abs(x - y) / x"
   ]
  },
  {
   "cell_type": "code",
   "execution_count": 14,
   "metadata": {},
   "outputs": [
    {
     "data": {
      "text/plain": [
       "array([ 0.00012142,  0.01708914,  0.01222007])"
      ]
     },
     "execution_count": 14,
     "metadata": {},
     "output_type": "execute_result"
    }
   ],
   "source": [
    "relative_error(means, empirical_means)"
   ]
  },
  {
   "cell_type": "markdown",
   "metadata": {},
   "source": [
    "That's less than $3\\%$ error, it's already quite good!\n",
    "\n",
    "*Conclusion* : If we have \"enough\" samples, and the distribution are not too close, there is no need to do any learning: just pick the arm with highest mean, from now on, and you will be good!"
   ]
  },
  {
   "cell_type": "code",
   "execution_count": 15,
   "metadata": {},
   "outputs": [],
   "source": [
    "best_arm_estimated = np.argmax(empirical_means)\n",
    "best_arm = np.argmax(means)\n",
    "assert best_arm_estimated == best_arm, \"Error: the best arm is wrongly estimated, even after {} samples.\".format(T_0)"
   ]
  },
  {
   "cell_type": "markdown",
   "metadata": {},
   "source": [
    "----\n",
    "## Getting data from a first phase of uniform exploration\n",
    "\n",
    "But maybe $T_0 = 1000$ was really too large...\n",
    "\n",
    "Let assume that the initial data was obtained from an algorithm which starts playing by exploring every arm, uniformly at random, until it gets \"enough\" data.\n",
    "\n",
    "- On the one hand, if we ask him to sample each arm $1000$ times, of course the empirical mean $\\hat{\\mu_k(t)}$ will correctly estimate the true mean $\\mu_k$ (if the gap $\\Delta = \\min_{i \\neq j} |\\mu_i - \\mu_j|$ is not too small).\n",
    "- But on the other hand, starting with a long phase of uniform exploration will increase dramatically the regret.\n",
    "\n",
    "What if we want to use the same technique on very few data?\n",
    "Let see with $T_0 = 10$, if the empirical means are still as close to the true ones."
   ]
  },
  {
   "cell_type": "code",
   "execution_count": 16,
   "metadata": {},
   "outputs": [
    {
     "data": {
      "text/plain": [
       "array([ 0.42070333,  0.51071708,  0.50317952])"
      ]
     },
     "execution_count": 16,
     "metadata": {},
     "output_type": "execute_result"
    }
   ],
   "source": [
    "np.random.seed(10000)  # for reproducibility of the error best_arm_estimated = 1\n",
    "T_0 = 10\n",
    "draws = np.array([ b.draw_nparray((T_0, )) for b in M.arms ])\n",
    "empirical_means = np.mean(draws, axis=1)\n",
    "empirical_means"
   ]
  },
  {
   "cell_type": "code",
   "execution_count": 17,
   "metadata": {},
   "outputs": [
    {
     "data": {
      "text/plain": [
       "array([ 0.06510371,  0.02143416,  0.08512815])"
      ]
     },
     "execution_count": 17,
     "metadata": {},
     "output_type": "execute_result"
    },
    {
     "data": {
      "text/plain": [
       "1"
      ]
     },
     "execution_count": 17,
     "metadata": {},
     "output_type": "execute_result"
    },
    {
     "ename": "AssertionError",
     "evalue": "Error: the best arm is wrongly estimated, even after 10 samples.",
     "output_type": "error",
     "traceback": [
      "\u001b[0;31m---------------------------------------------------------------------------\u001b[0m",
      "\u001b[0;31mAssertionError\u001b[0m                            Traceback (most recent call last)",
      "\u001b[0;32m<ipython-input-17-15e056f5ef63>\u001b[0m in \u001b[0;36m<module>\u001b[0;34m()\u001b[0m\n\u001b[1;32m      2\u001b[0m \u001b[0mbest_arm_estimated\u001b[0m \u001b[0;34m=\u001b[0m \u001b[0mnp\u001b[0m\u001b[0;34m.\u001b[0m\u001b[0margmax\u001b[0m\u001b[0;34m(\u001b[0m\u001b[0mempirical_means\u001b[0m\u001b[0;34m)\u001b[0m\u001b[0;34m\u001b[0m\u001b[0m\n\u001b[1;32m      3\u001b[0m \u001b[0mbest_arm_estimated\u001b[0m\u001b[0;34m\u001b[0m\u001b[0m\n\u001b[0;32m----> 4\u001b[0;31m \u001b[0;32massert\u001b[0m \u001b[0mbest_arm_estimated\u001b[0m \u001b[0;34m==\u001b[0m \u001b[0mbest_arm\u001b[0m\u001b[0;34m,\u001b[0m \u001b[0;34m\"Error: the best arm is wrongly estimated, even after {} samples.\"\u001b[0m\u001b[0;34m.\u001b[0m\u001b[0mformat\u001b[0m\u001b[0;34m(\u001b[0m\u001b[0mT_0\u001b[0m\u001b[0;34m)\u001b[0m\u001b[0;34m\u001b[0m\u001b[0m\n\u001b[0m",
      "\u001b[0;31mAssertionError\u001b[0m: Error: the best arm is wrongly estimated, even after 10 samples."
     ]
    }
   ],
   "source": [
    "relative_error(means, empirical_means)\n",
    "best_arm_estimated = np.argmax(empirical_means)\n",
    "best_arm_estimated\n",
    "assert best_arm_estimated == best_arm, \"Error: the best arm is wrongly estimated, even after {} samples.\".format(T_0)"
   ]
  },
  {
   "cell_type": "markdown",
   "metadata": {},
   "source": [
    "Clearly, if there is not enough sample, the [*empirical mean* estimator](http://banditslilian.gforge.inria.fr/docs/Policies.EmpiricalMeans.html#Policies.EmpiricalMeans.EmpiricalMeans) *can* be wrong.\n",
    "It will not always be wrong with so few samples, but it can."
   ]
  },
  {
   "cell_type": "markdown",
   "metadata": {},
   "source": [
    "----\n",
    "## Fitting an Unsupervised Learning algorithm\n",
    "\n",
    "We should use the initial data for more than just getting empirical means.\n",
    "\n",
    "Let use a simple *Unsupervised Learning* algorithm, implemented in the [scikit-learn (`sklearn`)](http://scikit-learn.org/) package: [1D Kernel Density estimation](http://scikit-learn.org/stable/modules/density.html)."
   ]
  },
  {
   "cell_type": "code",
   "execution_count": 18,
   "metadata": {
    "scrolled": true
   },
   "outputs": [],
   "source": [
    "from sklearn.neighbors.kde import KernelDensity"
   ]
  },
  {
   "cell_type": "markdown",
   "metadata": {},
   "source": [
    "First, we need to create a model.\n",
    "\n",
    "Here we assume to know that the arms are Gaussian, so fitting a Gaussian kernel will probably work the best.\n",
    "The `bandwidth` parameter should be of the order of the variances $\\sigma_k$ of each arm (we used $0.2$)."
   ]
  },
  {
   "cell_type": "code",
   "execution_count": 19,
   "metadata": {},
   "outputs": [
    {
     "data": {
      "text/plain": [
       "KernelDensity(algorithm='auto', atol=0, bandwidth=0.2, breadth_first=True,\n",
       "       kernel='gaussian', leaf_size=40, metric='euclidean',\n",
       "       metric_params=None, rtol=0)"
      ]
     },
     "execution_count": 19,
     "metadata": {},
     "output_type": "execute_result"
    }
   ],
   "source": [
    "kde = KernelDensity(kernel='gaussian', bandwidth=0.2)\n",
    "kde"
   ]
  },
  {
   "cell_type": "markdown",
   "metadata": {},
   "source": [
    "Then, we will feed it the initial data, obtained from the initial phase of uniform exploration, from $t = 1, \\dots, T_0$."
   ]
  },
  {
   "cell_type": "code",
   "execution_count": 20,
   "metadata": {},
   "outputs": [
    {
     "data": {
      "text/plain": [
       "array([[ 0.19578187,  0.48522741,  0.39075672,  0.51538576,  0.25531612,\n",
       "         0.4955362 ,  0.28613439,  0.47144451,  0.64505553,  0.46639478],\n",
       "       [ 0.40467549,  0.20156569,  0.41930701,  0.63895565,  0.54243056,\n",
       "         0.51819797,  0.19022907,  0.49103453,  0.81135267,  0.88942214],\n",
       "       [ 0.39297198,  0.12215761,  0.29714829,  0.60899744,  0.71129785,\n",
       "         0.60553406,  0.30123099,  0.70745487,  0.70040608,  0.584596  ]])"
      ]
     },
     "execution_count": 20,
     "metadata": {},
     "output_type": "execute_result"
    },
    {
     "data": {
      "text/plain": [
       "(3, 10)"
      ]
     },
     "execution_count": 20,
     "metadata": {},
     "output_type": "execute_result"
    }
   ],
   "source": [
    "draws\n",
    "draws.shape"
   ]
  },
  {
   "cell_type": "markdown",
   "metadata": {},
   "source": [
    "We need to use the transpose of this array, as the data should have shape `(n_samples, n_features)`, i.e., of shape `(10, 3)` here."
   ]
  },
  {
   "cell_type": "code",
   "execution_count": 21,
   "metadata": {},
   "outputs": [
    {
     "name": "stdout",
     "output_type": "stream",
     "text": [
      "\u001b[0;31mSignature:\u001b[0m \u001b[0mkde\u001b[0m\u001b[0;34m.\u001b[0m\u001b[0mfit\u001b[0m\u001b[0;34m(\u001b[0m\u001b[0mX\u001b[0m\u001b[0;34m,\u001b[0m \u001b[0my\u001b[0m\u001b[0;34m=\u001b[0m\u001b[0;32mNone\u001b[0m\u001b[0;34m)\u001b[0m\u001b[0;34m\u001b[0m\u001b[0m\n",
      "\u001b[0;31mDocstring:\u001b[0m\n",
      "Fit the Kernel Density model on the data.\n",
      "\n",
      "Parameters\n",
      "----------\n",
      "X : array_like, shape (n_samples, n_features)\n",
      "    List of n_features-dimensional data points.  Each row\n",
      "    corresponds to a single data point.\n",
      "\u001b[0;31mFile:\u001b[0m      /usr/local/lib/python3.5/dist-packages/sklearn/neighbors/kde.py\n",
      "\u001b[0;31mType:\u001b[0m      method\n",
      "\n"
     ]
    }
   ],
   "source": [
    "kde.fit?"
   ]
  },
  {
   "cell_type": "code",
   "execution_count": 22,
   "metadata": {},
   "outputs": [
    {
     "data": {
      "text/plain": [
       "KernelDensity(algorithm='auto', atol=0, bandwidth=0.2, breadth_first=True,\n",
       "       kernel='gaussian', leaf_size=40, metric='euclidean',\n",
       "       metric_params=None, rtol=0)"
      ]
     },
     "execution_count": 22,
     "metadata": {},
     "output_type": "execute_result"
    }
   ],
   "source": [
    "kde.fit(draws.T)"
   ]
  },
  {
   "cell_type": "markdown",
   "metadata": {},
   "source": [
    "The [`score_samples(X)`](http://scikit-learn.org/stable/modules/generated/sklearn.neighbors.KernelDensity.html#sklearn.neighbors.KernelDensity.score_samples) method can be used to evaluate the density on sample data (i.e., the likelihood of each observation)."
   ]
  },
  {
   "cell_type": "code",
   "execution_count": 23,
   "metadata": {},
   "outputs": [
    {
     "data": {
      "text/plain": [
       "array([ 0.74775249,  0.38689241,  0.8415668 ,  1.15395093,  0.78990714,\n",
       "        1.14875055,  0.65704831,  1.05109219,  0.69428901,  0.64198648])"
      ]
     },
     "execution_count": 23,
     "metadata": {},
     "output_type": "execute_result"
    }
   ],
   "source": [
    "kde.score_samples(draws.T)"
   ]
  },
  {
   "cell_type": "markdown",
   "metadata": {},
   "source": [
    "For instance, based on the means $[0.45, 0.5, 0.55]$, the sample $[10, -10, 0]$ should be *very* unlikely, while $[0.4, 0.5, 0.6]$ will be *more* likely.\n",
    "And the vector of empirical means is a very likely observation as well."
   ]
  },
  {
   "cell_type": "code",
   "execution_count": 24,
   "metadata": {},
   "outputs": [
    {
     "data": {
      "text/plain": [
       "-2432.9531169042129"
      ]
     },
     "execution_count": 24,
     "metadata": {},
     "output_type": "execute_result"
    },
    {
     "data": {
      "text/plain": [
       "1.1497424000393375"
      ]
     },
     "execution_count": 24,
     "metadata": {},
     "output_type": "execute_result"
    },
    {
     "data": {
      "text/plain": [
       "1.1001537768074523"
      ]
     },
     "execution_count": 24,
     "metadata": {},
     "output_type": "execute_result"
    }
   ],
   "source": [
    "kde.score(np.array([10, -10, 0]).reshape(1, -1))\n",
    "kde.score(np.array([0.4, 0.5, 0.6]).reshape(1, -1))\n",
    "kde.score(empirical_means.reshape(1, -1))"
   ]
  },
  {
   "cell_type": "markdown",
   "metadata": {},
   "source": [
    "----\n",
    "## Using the prediction to decide the next arm to sample\n",
    "\n",
    "Now that we have a model of [Kernel Density](http://scikit-learn.org/stable/modules/generated/sklearn.neighbors.KernelDensity.html) estimation, we can use it to *generate some random samples*."
   ]
  },
  {
   "cell_type": "code",
   "execution_count": 25,
   "metadata": {},
   "outputs": [
    {
     "name": "stdout",
     "output_type": "stream",
     "text": [
      "\u001b[0;31mSignature:\u001b[0m \u001b[0mkde\u001b[0m\u001b[0;34m.\u001b[0m\u001b[0msample\u001b[0m\u001b[0;34m(\u001b[0m\u001b[0mn_samples\u001b[0m\u001b[0;34m=\u001b[0m\u001b[0;36m1\u001b[0m\u001b[0;34m,\u001b[0m \u001b[0mrandom_state\u001b[0m\u001b[0;34m=\u001b[0m\u001b[0;32mNone\u001b[0m\u001b[0;34m)\u001b[0m\u001b[0;34m\u001b[0m\u001b[0m\n",
      "\u001b[0;31mDocstring:\u001b[0m\n",
      "Generate random samples from the model.\n",
      "\n",
      "Currently, this is implemented only for gaussian and tophat kernels.\n",
      "\n",
      "Parameters\n",
      "----------\n",
      "n_samples : int, optional\n",
      "    Number of samples to generate. Defaults to 1.\n",
      "\n",
      "random_state : RandomState or an int seed (0 by default)\n",
      "    A random number generator instance.\n",
      "\n",
      "Returns\n",
      "-------\n",
      "X : array_like, shape (n_samples, n_features)\n",
      "    List of samples.\n",
      "\u001b[0;31mFile:\u001b[0m      /usr/local/lib/python3.5/dist-packages/sklearn/neighbors/kde.py\n",
      "\u001b[0;31mType:\u001b[0m      method\n",
      "\n"
     ]
    }
   ],
   "source": [
    "kde.sample?"
   ]
  },
  {
   "cell_type": "markdown",
   "metadata": {},
   "source": [
    "Basically, that means we can use this model to predict what the next output of the 3 arms (constituting the Gaussian problem) will be.\n",
    "\n",
    "Let see this with one example."
   ]
  },
  {
   "cell_type": "code",
   "execution_count": 26,
   "metadata": {},
   "outputs": [
    {
     "data": {
      "text/plain": [
       "array([[ 0.38558697,  0.23762342,  0.92208452]])"
      ]
     },
     "execution_count": 26,
     "metadata": {},
     "output_type": "execute_result"
    }
   ],
   "source": [
    "np.random.seed(1)\n",
    "one_sample = kde.sample()\n",
    "one_sample"
   ]
  },
  {
   "cell_type": "code",
   "execution_count": 27,
   "metadata": {},
   "outputs": [
    {
     "data": {
      "text/plain": [
       "array([ 0.25451703,  0.47787531,  0.66926408])"
      ]
     },
     "execution_count": 27,
     "metadata": {},
     "output_type": "execute_result"
    }
   ],
   "source": [
    "one_draw = M.draw_each()\n",
    "one_draw"
   ]
  },
  {
   "cell_type": "markdown",
   "metadata": {},
   "source": [
    "Of course, the next random rewards from the arms have no reason to be close to predicted ones...\n",
    "\n",
    "But maybe we can use the prediction to choose the arm with highest sample?\n",
    "And hopefully this will be the best arm, *at least in average*!"
   ]
  },
  {
   "cell_type": "code",
   "execution_count": 28,
   "metadata": {},
   "outputs": [
    {
     "data": {
      "text/plain": [
       "2"
      ]
     },
     "execution_count": 28,
     "metadata": {},
     "output_type": "execute_result"
    }
   ],
   "source": [
    "best_arm_sampled = np.argmax(one_sample)\n",
    "best_arm_sampled\n",
    "assert best_arm_sampled == best_arm, \"Error: the best arm is wrongly estimated from a random sample, even after {} observations.\".format(T_0)"
   ]
  },
  {
   "cell_type": "markdown",
   "metadata": {},
   "source": [
    "----\n",
    "## Implementing a Policy from that idea\n",
    "\n",
    "Based on that idea, we can implement a policy, following the [common API of all the policies](http://banditslilian.gforge.inria.fr/docs/Policies.BasePolicy.html#Policies.BasePolicy.BasePolicy) of my framework."
   ]
  },
  {
   "cell_type": "markdown",
   "metadata": {},
   "source": [
    "### Basic algorithm\n",
    "- Initially : create $K$ Unsupervised Learning algorithms $\\mathcal{U}_k(0)$, $k\\in\\{1,\\dots,K\\}$, for instance `KernelDensity` estimators.\n",
    "- For the first $K \\times T_0$ time steps, each arm $k \\in \\{1, \\dots, K\\}$ is sampled exactly $T_0$ times, to get a lot of initial observations for each arm.\n",
    "- With these first $T_0$ (e.g., $50$) observations, train a first version of the Unsupervised Learning algorithms $\\mathcal{U}_k(t)$, $k\\in\\{1,\\dots,K\\}$.\n",
    "- Then, for the following time steps, $t \\geq T_0 + 1$ :\n",
    "    + Once in a while (every $T_1 =$ `fit_every` steps, e.g., $100$), retrain all the Unsupervised Learning algorithms :\n",
    "        * For each arm $k\\in\\{1,\\dots,K\\}$, use all the previous observations of that arm\n",
    "          to train the model $\\mathcal{U}_k(t)$.\n",
    "    + Otherwise, use the previously trained model :\n",
    "        * Get a random sample, $s_k(t)$ from the $K$ Unsupervised Learning algorithms $\\mathcal{U}_k(t)$, $k\\in\\{1,\\dots,K\\}$ :\n",
    "          $$ \\forall k\\in\\{1,\\dots,K\\}, \\;\\; s_k(t) \\sim \\mathcal{U}_k(t). $$\n",
    "        * Chose the arm $A(t)$ with *highest* sample :\n",
    "          $$ A(t) \\in \\arg\\max_{k\\in\\{1,\\dots,K\\}} s_k(t). $$\n",
    "        * Play that arm $A(t)$, receive a reward $r_{A(t)}(t)$ from its (unknown) distribution, and store it."
   ]
  },
  {
   "cell_type": "markdown",
   "metadata": {},
   "source": [
    "### A variant\n",
    "A more robust (and so more correct) variant could be to use a bunch of samples, and use their mean to give $s_k(t)$ :\n",
    "\n",
    "* Get a bunch of $M$ random samples (e.g., $50$), $s_k^i(t)$ from the $K$ Unsupervised Learning algorithms $\\mathcal{U}_k(t)$, $k\\in\\{1,\\dots,K\\}$ :\n",
    "  $$ \\forall k\\in\\{1,\\dots,K\\}, \\;\\; \\forall i\\in\\{1,\\dots,M\\}, \\;\\; s_k^i(t) \\sim \\mathcal{U}_k(t). $$\n",
    "* Average them to get $\\hat{s_k}(t)$ :\n",
    "  $$ \\forall k\\in\\{1,\\dots,K\\}, \\;\\; \\hat{s_k}(t) := \\frac{1}{M} \\sum_{i=1}^{M} s_k^i(t). $$\n",
    "* Chose the arm $A(t)$ with *highest* mean sample :\n",
    "  $$ A(t) \\in \\arg\\max_{k\\in\\{1,\\dots,K\\}} \\hat{s_k}(t). $$"
   ]
  },
  {
   "cell_type": "markdown",
   "metadata": {},
   "source": [
    "### Implementation\n",
    "In code, this gives the following:"
   ]
  },
  {
   "cell_type": "code",
   "execution_count": 95,
   "metadata": {},
   "outputs": [],
   "source": [
    "class UnsupervisedLearning(object):\n",
    "    \"\"\" Generic policy using an Unsupervised Learning algorithm, from scikit-learn.\n",
    "    \n",
    "    - Warning: still highly experimental!\n",
    "    \"\"\"\n",
    "    \n",
    "    def __init__(self, nbArms, estimator=KernelDensity,\n",
    "                 T_0=10, fit_every=100, meanOf=50,\n",
    "                 lower=0., amplitude=1.,  # not used, but needed for my framework\n",
    "                 *args, **kwargs):\n",
    "        self.nbArms = nbArms\n",
    "        self.t = -1\n",
    "        T_0 = int(T_0)\n",
    "        self.T_0 = int(max(1, T_0))\n",
    "        self.fit_every = int(fit_every)\n",
    "        self.meanOf = int(meanOf)\n",
    "        # Unsupervised Learning algorithm\n",
    "        self._was_fitted = False\n",
    "        self._estimator = estimator\n",
    "        self._args = args\n",
    "        self._kwargs = kwargs\n",
    "        self.ests = [ self._estimator(*self._args, **self._kwargs) for _ in range(nbArms) ]\n",
    "        # Store all the observations\n",
    "        self.observations = [ [] for _ in range(nbArms) ]\n",
    "    \n",
    "    def __str__(self):\n",
    "        return \"UnsupervisedLearning({.__name__}, $T_0={:.3g}$, $T_1={:.3g}$, $M={:.3g}$)\".format(self._estimator, self.T_0, self.fit_every, self.meanOf)\n",
    "            \n",
    "    def startGame(self):\n",
    "        \"\"\" Reinitialize everything.\"\"\"\n",
    "        self.t = -1\n",
    "        self.ests = [ self._estimator(*self._args, **self._kwargs) for _ in range(self.nbArms) ]\n",
    "    \n",
    "    def getReward(self, armId, reward):\n",
    "        \"\"\" Store this observation.\"\"\"\n",
    "        # print(\"   - At time {}, we saw {} from arm {} ...\".format(self.t, reward, armId))  # DEBUG\n",
    "        self.observations[armId].append(reward)\n",
    "    \n",
    "    def choice(self):\n",
    "        \"\"\" Choose an arm.\"\"\"\n",
    "        self.t += 1\n",
    "        # Start by sampling each arm a certain number of times\n",
    "        if self.t < self.nbArms * self.T_0:\n",
    "            # print(\"- First phase: exploring arm {} at time {} ...\".format(self.t % self.nbArms, self.t))  # DEBUG\n",
    "            return self.t % self.nbArms\n",
    "        else:\n",
    "            # print(\"- Second phase: at time {} ...\".format(self.t))  # DEBUG\n",
    "            # 1. Fit the Unsupervised Learning on *all* the data observed so far, but do it once in a while only\n",
    "            if not self._was_fitted:\n",
    "                # print(\"   - Need to first fit the model of each arm with the first {} observations, now of shape {} ...\".format(self.fit_every, np.shape(self.observations)))  # DEBUG\n",
    "                self.fit(self.observations)\n",
    "                self._was_fitted = True\n",
    "            elif self.t % self.fit_every == 0:\n",
    "                # print(\"   - Need to refit the model of each arm with {} more observations, now of shape {} ...\".format(self.fit_every, np.shape(self.observations)))  # DEBUG\n",
    "                self.fit(self.observations)\n",
    "            # 2. Sample a random prediction for next output of the arms\n",
    "            prediction = self.sample_with_mean()\n",
    "            # 3. Use this sample to select next arm to play\n",
    "            best_arm_predicted = np.argmax(prediction)\n",
    "            # print(\"   - So the best arm seems to be = {} ...\".format(best_arm_predicted))  # DEBUG\n",
    "            return best_arm_predicted\n",
    "    \n",
    "    # --- Shortcut methods\n",
    "    \n",
    "    def fit(self, data):\n",
    "        \"\"\" Fit each of the K models, with the data accumulated up-to now.\"\"\"\n",
    "        for armId in range(self.nbArms):\n",
    "            # print(\" - Fitting the #{} model, with observations of shape {} ...\".format(armId + 1, np.shape(self.observations[armId])))  # DEBUG\n",
    "            est = self.ests[armId]\n",
    "            est.fit(np.asarray(data[armId]).reshape(-1, 1))\n",
    "            self.ests[armId] = est\n",
    "    \n",
    "    def sample(self):\n",
    "        \"\"\" Return a vector of random sample from each of the K models.\"\"\"\n",
    "        return [ float(est.sample()) for est in self.ests ]\n",
    "    \n",
    "    def sample_with_mean(self, meanOf=None):\n",
    "        \"\"\" Return a vector of random sample from each of the K models, by averaging a lot of samples (reduce variance).\"\"\"\n",
    "        if meanOf is None:\n",
    "            meanOf = self.meanOf\n",
    "        return [ float(np.mean(est.sample(meanOf))) for est in self.ests ]\n",
    "    \n",
    "    def score(self, obs):\n",
    "        \"\"\" Return a vector of scores, for each of the K models on its observation.\"\"\"\n",
    "        return [ float(est.score(o)) for est, o in zip(self.ests, obs) ]\n",
    "\n",
    "    def estimatedOrder(self):\n",
    "        \"\"\" Return the estimate order of the arms, as a permutation on [0..K-1] that would order the arms by increasing means.\"\"\"\n",
    "        return np.argsort(self.sample_with_mean())"
   ]
  },
  {
   "cell_type": "code",
   "execution_count": 96,
   "metadata": {
    "scrolled": true
   },
   "outputs": [
    {
     "name": "stdout",
     "output_type": "stream",
     "text": [
      "\u001b[0;31mInit signature:\u001b[0m \u001b[0mUnsupervisedLearning\u001b[0m\u001b[0;34m(\u001b[0m\u001b[0mnbArms\u001b[0m\u001b[0;34m,\u001b[0m \u001b[0mestimator\u001b[0m\u001b[0;34m=\u001b[0m\u001b[0;34m<\u001b[0m\u001b[0;32mclass\u001b[0m \u001b[0;34m'sklearn.neighbors.kde.KernelDensity'\u001b[0m\u001b[0;34m>\u001b[0m\u001b[0;34m,\u001b[0m \u001b[0mT_0\u001b[0m\u001b[0;34m=\u001b[0m\u001b[0;36m10\u001b[0m\u001b[0;34m,\u001b[0m \u001b[0mfit_every\u001b[0m\u001b[0;34m=\u001b[0m\u001b[0;36m100\u001b[0m\u001b[0;34m,\u001b[0m \u001b[0mmeanOf\u001b[0m\u001b[0;34m=\u001b[0m\u001b[0;36m50\u001b[0m\u001b[0;34m,\u001b[0m \u001b[0mlower\u001b[0m\u001b[0;34m=\u001b[0m\u001b[0;36m0.0\u001b[0m\u001b[0;34m,\u001b[0m \u001b[0mamplitude\u001b[0m\u001b[0;34m=\u001b[0m\u001b[0;36m1.0\u001b[0m\u001b[0;34m,\u001b[0m \u001b[0;34m*\u001b[0m\u001b[0margs\u001b[0m\u001b[0;34m,\u001b[0m \u001b[0;34m**\u001b[0m\u001b[0mkwargs\u001b[0m\u001b[0;34m)\u001b[0m\u001b[0;34m\u001b[0m\u001b[0m\n",
      "\u001b[0;31mDocstring:\u001b[0m     \n",
      "Generic policy using an Unsupervised Learning algorithm, from scikit-learn.\n",
      "\n",
      "- Warning: still highly experimental!\n",
      "\u001b[0;31mType:\u001b[0m           type\n",
      "\n"
     ]
    }
   ],
   "source": [
    "UnsupervisedLearning?"
   ]
  },
  {
   "cell_type": "markdown",
   "metadata": {},
   "source": [
    "For example, we can chose these values for the numerical parameters :"
   ]
  },
  {
   "cell_type": "code",
   "execution_count": 139,
   "metadata": {
    "collapsed": true
   },
   "outputs": [],
   "source": [
    "nbArms = M.nbArms\n",
    "T_0 = 100\n",
    "fit_every = 1000\n",
    "meanOf = 200"
   ]
  },
  {
   "cell_type": "markdown",
   "metadata": {},
   "source": [
    "And use the same Unsupervised Learning algorithm as previously."
   ]
  },
  {
   "cell_type": "code",
   "execution_count": 140,
   "metadata": {
    "collapsed": true
   },
   "outputs": [],
   "source": [
    "estimator = KernelDensity\n",
    "kwargs = dict(kernel='gaussian', bandwidth=0.2)"
   ]
  },
  {
   "cell_type": "markdown",
   "metadata": {},
   "source": [
    "This gives the following policy:"
   ]
  },
  {
   "cell_type": "code",
   "execution_count": 141,
   "metadata": {},
   "outputs": [
    {
     "name": "stdout",
     "output_type": "stream",
     "text": [
      "\u001b[0;31mType:\u001b[0m        UnsupervisedLearning\n",
      "\u001b[0;31mString form:\u001b[0m UnsupervisedLearning(KernelDensity, $T_0=100$, $T_1=1e+03$, $M=200$)\n",
      "\u001b[0;31mDocstring:\u001b[0m  \n",
      "Generic policy using an Unsupervised Learning algorithm, from scikit-learn.\n",
      "\n",
      "- Warning: still highly experimental!\n",
      "\n"
     ]
    }
   ],
   "source": [
    "policy = UnsupervisedLearning(nbArms, T_0=T_0, fit_every=fit_every, meanOf=meanOf, estimator=estimator, **kwargs)\n",
    "policy?"
   ]
  },
  {
   "cell_type": "markdown",
   "metadata": {},
   "source": [
    "----\n",
    "## Comparing its performance on this Gaussian problem\n",
    "\n",
    "We can compare the performance of this `UnsupervisedLearning(kde)` policy, on the same Gaussian problem, against three strategies:\n",
    "\n",
    "- [`EmpiricalMeans`](http://banditslilian.gforge.inria.fr/docs/Policies.EmpiricalMeans.html#Policies.EmpiricalMeans.EmpiricalMeans), which only uses the empirical mean estimators $\\hat{\\mu_k}(t)$. It is known to be insufficient.\n",
    "- [`UCB`](http://banditslilian.gforge.inria.fr/docs/Policies.UCB.html#Policies.UCB.UCB), the UCB1 algorithm. It is known to be quite efficient.\n",
    "- [`Thompson`](http://banditslilian.gforge.inria.fr/docs/Policies.Thompson.html#Policies.Thompson.Thompson), the Thompson Sampling algorithm. It is known to be very efficient.\n",
    "- [`klUCB`](http://banditslilian.gforge.inria.fr/docs/Policies.klUCB.html#Policies.klUCB.klUCB), the kl-UCB algorithm, for Gaussian arms (`klucb = klucbGauss`). It is also known to be very efficient."
   ]
  },
  {
   "cell_type": "markdown",
   "metadata": {},
   "source": [
    "### Configuring an experiment\n",
    "I implemented in the [`Environment`](http://http://banditslilian.gforge.inria.fr/docs/Environment.html) module an [`Evaluator`](http://http://banditslilian.gforge.inria.fr/docs/Environment.Evaluator.html#Environment.Evaluator.Evaluator) class, very convenient to run experiments of Multi-Armed Bandit games without a sweat.\n",
    "\n",
    "Let us use it!"
   ]
  },
  {
   "cell_type": "code",
   "execution_count": 142,
   "metadata": {},
   "outputs": [],
   "source": [
    "from Environment import Evaluator"
   ]
  },
  {
   "cell_type": "markdown",
   "metadata": {},
   "source": [
    "We will start with a small experiment, with a small horizon."
   ]
  },
  {
   "cell_type": "code",
   "execution_count": 143,
   "metadata": {
    "collapsed": true
   },
   "outputs": [],
   "source": [
    "HORIZON = 30000\n",
    "REPETITIONS = 1000\n",
    "N_JOBS = min(REPETITIONS, 4)\n",
    "means = [0.45, 0.5, 0.55]\n",
    "ENVIRONMENTS = [ [Gaussian(mu, sigma=0.2) for mu in means] ]"
   ]
  },
  {
   "cell_type": "code",
   "execution_count": 144,
   "metadata": {},
   "outputs": [],
   "source": [
    "from Policies import UCB, Thompson, klUCB\n",
    "from Policies import klucb_mapping, klucbGauss as _klucbGauss\n",
    "\n",
    "sigma = 0.2\n",
    "# Custom klucb function\n",
    "def klucbGauss(x, d, precision=0.):\n",
    "    \"\"\"klucbGauss(x, d, sig2) with the good variance (= sigma).\"\"\"\n",
    "    return _klucbGauss(x, d, sigma)\n",
    "\n",
    "klucb = klucbGauss"
   ]
  },
  {
   "cell_type": "code",
   "execution_count": 145,
   "metadata": {},
   "outputs": [],
   "source": [
    "POLICIES = [\n",
    "        # --- Our algorithm\n",
    "        {\n",
    "            \"archtype\": UnsupervisedLearning,\n",
    "            \"params\": {\n",
    "                \"estimator\": KernelDensity,\n",
    "                \"kernel\": 'gaussian',\n",
    "                \"bandwidth\": sigma,\n",
    "                \"T_0\": T_0,\n",
    "                \"fit_every\": fit_every,\n",
    "                \"meanOf\": meanOf,\n",
    "            }\n",
    "        },\n",
    "        # --- Basic UCB1 algorithm\n",
    "        {\n",
    "            \"archtype\": UCB,\n",
    "            \"params\": {}\n",
    "        },\n",
    "        # --- Thompson sampling algorithm\n",
    "        {\n",
    "            \"archtype\": Thompson,\n",
    "            \"params\": {}\n",
    "        },\n",
    "        # --- klUCB algorithm, with Gaussian klucb function\n",
    "        {\n",
    "            \"archtype\": klUCB,\n",
    "            \"params\": {\n",
    "                \"klucb\": klucb\n",
    "            }\n",
    "        },\n",
    "    ]"
   ]
  },
  {
   "cell_type": "code",
   "execution_count": 146,
   "metadata": {},
   "outputs": [],
   "source": [
    "configuration = {\n",
    "    # --- Duration of the experiment\n",
    "    \"horizon\": HORIZON,\n",
    "    # --- Number of repetition of the experiment (to have an average)\n",
    "    \"repetitions\": REPETITIONS,\n",
    "    # --- Parameters for the use of joblib.Parallel\n",
    "    \"n_jobs\": N_JOBS,    # = nb of CPU cores\n",
    "    \"verbosity\": 6,      # Max joblib verbosity\n",
    "    # --- Arms\n",
    "    \"environment\": ENVIRONMENTS,\n",
    "    # --- Algorithms\n",
    "    \"policies\": POLICIES,\n",
    "}"
   ]
  },
  {
   "cell_type": "code",
   "execution_count": 147,
   "metadata": {},
   "outputs": [
    {
     "name": "stdout",
     "output_type": "stream",
     "text": [
      "Number of policies in this comparison: 4\n",
      "Time horizon: 30000\n",
      "Number of repetitions: 1000\n",
      "Sampling rate for saving, delta_t_save: 1\n",
      "Sampling rate for plotting, delta_t_plot: 50\n",
      "Number of jobs for parallelization: 4\n",
      "Creating a new MAB problem ...\n",
      "  Taking arms of this MAB problem from a list of arms 'configuration' = [G(0.45, 0.2), G(0.5, 0.2), G(0.55, 0.2)] ...\n",
      " - with 'arms' = [G(0.45, 0.2), G(0.5, 0.2), G(0.55, 0.2)]\n",
      " - with 'means' = [ 0.45  0.5   0.55]\n",
      " - with 'nbArms' = 3\n",
      " - with 'maxArm' = 0.55\n",
      " - with 'minArm' = 0.45\n",
      "\n",
      "This MAB problem has: \n",
      " - a [Lai & Robbins] complexity constant C(mu) = 12 ... \n",
      " - a Optimal Arm Identification factor H_OI(mu) = 61.67% ...\n",
      " - with 'arms' represented as: $[G(0.45, 0.2), G(0.5, 0.2), G(0.55, 0.2)^*]$\n",
      "Number of environments to try: 1\n"
     ]
    }
   ],
   "source": [
    "evaluation = Evaluator(configuration)"
   ]
  },
  {
   "cell_type": "markdown",
   "metadata": {},
   "source": [
    "### Running an experiment\n",
    "\n",
    "We asked to repeat the experiment $100$ times, so it will take a while..."
   ]
  },
  {
   "cell_type": "code",
   "execution_count": 148,
   "metadata": {
    "collapsed": true
   },
   "outputs": [],
   "source": [
    "from Environment import tqdm"
   ]
  },
  {
   "cell_type": "code",
   "execution_count": null,
   "metadata": {
    "scrolled": false
   },
   "outputs": [
    {
     "data": {
      "application/vnd.jupyter.widget-view+json": {
       "model_id": "eead19e9c52a4bb79474d0449266872b"
      }
     },
     "metadata": {},
     "output_type": "display_data"
    },
    {
     "name": "stdout",
     "output_type": "stream",
     "text": [
      "\n",
      "Evaluating environment: MAB(nbArms: 3, arms: [G(0.45, 0.2), G(0.5, 0.2), G(0.55, 0.2)], minArm: 0.45, maxArm: 0.55)\n",
      "- Adding policy #1 = {'archtype': <class '__main__.UnsupervisedLearning'>, 'params': {'kernel': 'gaussian', 'T_0': 100, 'meanOf': 200, 'estimator': <class 'sklearn.neighbors.kde.KernelDensity'>, 'fit_every': 1000, 'bandwidth': 0.2}} ...\n",
      "  Creating this policy from a dictionnary 'self.cfg['policies'][0]' = {'archtype': <class '__main__.UnsupervisedLearning'>, 'params': {'kernel': 'gaussian', 'T_0': 100, 'meanOf': 200, 'estimator': <class 'sklearn.neighbors.kde.KernelDensity'>, 'fit_every': 1000, 'bandwidth': 0.2}} ...\n",
      "- Adding policy #2 = {'archtype': <class 'Policies.UCB.UCB'>, 'params': {}} ...\n",
      "  Creating this policy from a dictionnary 'self.cfg['policies'][1]' = {'archtype': <class 'Policies.UCB.UCB'>, 'params': {}} ...\n",
      "- Adding policy #3 = {'archtype': <class 'Policies.Thompson.Thompson'>, 'params': {}} ...\n",
      "  Creating this policy from a dictionnary 'self.cfg['policies'][2]' = {'archtype': <class 'Policies.Thompson.Thompson'>, 'params': {}} ...\n",
      "- Adding policy #4 = {'archtype': <class 'Policies.klUCB.klUCB'>, 'params': {'klucb': <function klucbGauss at 0x7f986b6b38c8>}} ...\n",
      "  Creating this policy from a dictionnary 'self.cfg['policies'][3]' = {'archtype': <class 'Policies.klUCB.klUCB'>, 'params': {'klucb': <function klucbGauss at 0x7f986b6b38c8>}} ...\n",
      "\n",
      "- Evaluating policy #1/4: UnsupervisedLearning(KernelDensity, $T_0=100$, $T_1=1e+03$, $M=200$) ...\n"
     ]
    },
    {
     "data": {
      "application/vnd.jupyter.widget-view+json": {
       "model_id": "e554a4e9abd145cab5a87f96e3e6fd27"
      }
     },
     "metadata": {},
     "output_type": "display_data"
    },
    {
     "name": "stdout",
     "output_type": "stream",
     "text": [
      "\n",
      "Estimated order by the policy UnsupervisedLearning(KernelDensity, $T_0=100$, $T_1=1e+03$, $M=200$) after 30000 steps: [0 1 2] ...\n",
      "  ==> Optimal arm identification: 100.00% (relative success)...\n",
      "  ==> Manhattan   distance from optimal ordering: 100.00% (relative success)...\n",
      "  ==> Kendell Tau distance from optimal ordering: 88.28% (relative success)...\n",
      "  ==> Spearman    distance from optimal ordering: 100.00% (relative success)...\n",
      "  ==> Gestalt     distance from optimal ordering: 100.00% (relative success)...\n",
      "  ==> Mean distance from optimal ordering: 97.07% (relative success)...\n"
     ]
    },
    {
     "name": "stderr",
     "output_type": "stream",
     "text": [
      "[Parallel(n_jobs=4)]: Done   5 tasks      | elapsed:   18.8s\n",
      "[Parallel(n_jobs=4)]: Done  42 tasks      | elapsed:  1.7min\n",
      "[Parallel(n_jobs=4)]: Done 105 tasks      | elapsed:  4.3min\n",
      "[Parallel(n_jobs=4)]: Done 192 tasks      | elapsed:  7.7min\n",
      "[Parallel(n_jobs=4)]: Done 305 tasks      | elapsed: 12.6min\n",
      "[Parallel(n_jobs=4)]: Done 442 tasks      | elapsed: 18.2min\n"
     ]
    }
   ],
   "source": [
    "%%time\n",
    "for envId, env in tqdm(enumerate(evaluation.envs), desc=\"Problems\"):\n",
    "    # Evaluate just that env\n",
    "    evaluation.startOneEnv(envId, env)"
   ]
  },
  {
   "cell_type": "markdown",
   "metadata": {},
   "source": [
    "### Visualizing the results\n",
    "Now, we can plot some performance measures, like the regret, the best arm selection rate, the average reward etc."
   ]
  },
  {
   "cell_type": "code",
   "execution_count": null,
   "metadata": {
    "collapsed": true
   },
   "outputs": [],
   "source": [
    "def plotAll(evaluation, envId=0):\n",
    "    evaluation.printFinalRanking(envId)\n",
    "    evaluation.plotRegrets(envId)\n",
    "    evaluation.plotRegrets(envId, semilogx=True)\n",
    "    evaluation.plotRegrets(envId, meanRegret=True)\n",
    "    evaluation.plotBestArmPulls(envId)"
   ]
  },
  {
   "cell_type": "code",
   "execution_count": null,
   "metadata": {},
   "outputs": [],
   "source": [
    "evaluation?"
   ]
  },
  {
   "cell_type": "code",
   "execution_count": null,
   "metadata": {
    "scrolled": false
   },
   "outputs": [],
   "source": [
    "plotAll(evaluation)"
   ]
  },
  {
   "cell_type": "markdown",
   "metadata": {},
   "source": [
    "----\n",
    "## Conclusion"
   ]
  },
  {
   "cell_type": "markdown",
   "metadata": {},
   "source": [
    "----\n",
    "This notebook is here to illustrate my [AlgoBandits](http://banditslilian.gforge.inria.fr/) library, for which a complete documentation is available, [here at http://banditslilian.gforge.inria.fr/](http://banditslilian.gforge.inria.fr/).\n",
    "\n",
    "> That's it for this demo! See you, folks!"
   ]
  }
 ],
 "metadata": {
  "kernelspec": {
   "display_name": "Python 3",
   "language": "python",
   "name": "python3"
  },
  "language_info": {
   "codemirror_mode": {
    "name": "ipython",
    "version": 3
   },
   "file_extension": ".py",
   "mimetype": "text/x-python",
   "name": "python",
   "nbconvert_exporter": "python",
   "pygments_lexer": "ipython3",
   "version": "3.5.3"
  },
  "notify_time": "5",
  "toc": {
   "colors": {
    "hover_highlight": "#DAA520",
    "running_highlight": "#FF0000",
    "selected_highlight": "#FFD700"
   },
   "moveMenuLeft": true,
   "nav_menu": {
    "height": "327px",
    "width": "252px"
   },
   "navigate_menu": true,
   "number_sections": true,
   "sideBar": true,
   "threshold": 4,
   "toc_cell": true,
   "toc_position": {
    "height": "737px",
    "left": "0px",
    "right": "1548px",
    "top": "118px",
    "width": "212px"
   },
   "toc_section_display": "block",
   "toc_window_display": true
  }
 },
 "nbformat": 4,
 "nbformat_minor": 2
}
